{
 "cells": [
  {
   "cell_type": "code",
   "execution_count": 1,
   "metadata": {},
   "outputs": [
    {
     "name": "stderr",
     "output_type": "stream",
     "text": [
      "Using TensorFlow backend.\n"
     ]
    }
   ],
   "source": [
    "import numpy as np\n",
    "import matplotlib.pyplot as plt\n",
    "from scipy.stats import norm\n",
    "\n",
    "from keras.layers import Input, Dense, Lambda\n",
    "from keras.models import Model\n",
    "from keras.regularizers import l2\n",
    "from keras import backend as K\n",
    "from keras import objectives\n",
    "from keras.datasets import mnist"
   ]
  },
  {
   "cell_type": "code",
   "execution_count": 2,
   "metadata": {},
   "outputs": [],
   "source": [
    "np.random.seed(1111)  # for reproducibility\n",
    "\n",
    "batch_size = 100 \n",
    "n = 784\n",
    "m = 2\n",
    "hidden_dim = 256\n",
    "epochs = 50\n",
    "epsilon_std = 1.0\n",
    "use_loss = 'xent' # 'mse' or 'xent'\n",
    "\n",
    "decay = 1e-4 # weight decay, a.k. l2 regularization\n",
    "use_bias = True"
   ]
  },
  {
   "cell_type": "code",
   "execution_count": 8,
   "metadata": {},
   "outputs": [
    {
     "name": "stdout",
     "output_type": "stream",
     "text": [
      "__________________________________________________________________________________________________\n",
      "Layer (type)                    Output Shape         Param #     Connected to                     \n",
      "==================================================================================================\n",
      "input_3 (InputLayer)            (100, 784)           0                                            \n",
      "__________________________________________________________________________________________________\n",
      "dense_11 (Dense)                (100, 256)           200960      input_3[0][0]                    \n",
      "__________________________________________________________________________________________________\n",
      "dense_12 (Dense)                (100, 2)             514         dense_11[0][0]                   \n",
      "__________________________________________________________________________________________________\n",
      "dense_13 (Dense)                (100, 2)             514         dense_11[0][0]                   \n",
      "__________________________________________________________________________________________________\n",
      "lambda_3 (Lambda)               (100, 2)             0           dense_12[0][0]                   \n",
      "                                                                 dense_13[0][0]                   \n",
      "__________________________________________________________________________________________________\n",
      "dense_14 (Dense)                (100, 256)           768         lambda_3[0][0]                   \n",
      "__________________________________________________________________________________________________\n",
      "dense_15 (Dense)                (100, 784)           201488      dense_14[0][0]                   \n",
      "==================================================================================================\n",
      "Total params: 404,244\n",
      "Trainable params: 404,244\n",
      "Non-trainable params: 0\n",
      "__________________________________________________________________________________________________\n"
     ]
    }
   ],
   "source": [
    "## Encoder\n",
    "x = Input(batch_shape=(batch_size, n))\n",
    "h_encoded = Dense(hidden_dim, kernel_regularizer=l2(decay), bias_regularizer=l2(decay), use_bias=use_bias, activation='tanh')(x)\n",
    "z_mean = Dense(m, kernel_regularizer=l2(decay), bias_regularizer=l2(decay), use_bias=use_bias)(h_encoded)\n",
    "z_log_var = Dense(m, kernel_regularizer=l2(decay), bias_regularizer=l2(decay), use_bias=use_bias)(h_encoded)\n",
    "\n",
    "\n",
    "## Sampler\n",
    "def sampling(args):\n",
    "    z_mean, z_log_var = args\n",
    "    epsilon = K.random_normal_variable(shape=(batch_size, m), mean=0.,\n",
    "                                       scale=epsilon_std)\n",
    "    return z_mean + K.exp(z_log_var / 2) * epsilon\n",
    "\n",
    "z = Lambda(sampling, output_shape=(m,))([z_mean, z_log_var])\n",
    "\n",
    "# we instantiate these layers separately so as to reuse them later\n",
    "decoder_h = Dense(hidden_dim, kernel_regularizer=l2(decay), bias_regularizer=l2(decay), use_bias=use_bias, activation='tanh')\n",
    "decoder_mean = Dense(n, kernel_regularizer=l2(decay), bias_regularizer=l2(decay), use_bias=use_bias, activation='sigmoid')\n",
    "\n",
    "## Decoder\n",
    "h_decoded = decoder_h(z)\n",
    "x_hat = decoder_mean(h_decoded)\n",
    "\n",
    "\n",
    "## loss\n",
    "def vae_loss(x, x_hat):\n",
    "    kl_loss = - 0.5 * K.sum(1 + z_log_var - K.square(z_mean) - K.exp(z_log_var), axis=-1)\n",
    "    xent_loss = n * objectives.binary_crossentropy(x, x_hat)\n",
    "    mse_loss = n * objectives.mse(x, x_hat) \n",
    "    if use_loss == 'xent':\n",
    "        return xent_loss + kl_loss\n",
    "    elif use_loss == 'mse':\n",
    "        return mse_loss + kl_loss\n",
    "\n",
    "vae = Model(x, x_hat)\n",
    "vae.compile(optimizer='rmsprop', loss=vae_loss)\n",
    "vae.summary()"
   ]
  },
  {
   "cell_type": "code",
   "execution_count": 9,
   "metadata": {},
   "outputs": [],
   "source": [
    "(x_train, y_train), (x_test, y_test) = mnist.load_data()\n",
    "\n",
    "x_train = x_train.astype('float32') / 255.\n",
    "x_test = x_test.astype('float32') / 255.\n",
    "x_train = x_train.reshape((len(x_train), np.prod(x_train.shape[1:])))\n",
    "x_test = x_test.reshape((len(x_test), np.prod(x_test.shape[1:])))"
   ]
  },
  {
   "cell_type": "code",
   "execution_count": 10,
   "metadata": {},
   "outputs": [
    {
     "name": "stdout",
     "output_type": "stream",
     "text": [
      "Train on 60000 samples, validate on 10000 samples\n",
      "Epoch 1/50\n",
      "60000/60000 [==============================] - 10s 161us/step - loss: 199.1644 - val_loss: 182.0891\n",
      "Epoch 2/50\n",
      "60000/60000 [==============================] - 10s 159us/step - loss: 180.3869 - val_loss: 177.5505\n",
      "Epoch 3/50\n",
      "60000/60000 [==============================] - 10s 170us/step - loss: 176.3252 - val_loss: 174.9938\n",
      "Epoch 4/50\n",
      "60000/60000 [==============================] - 10s 172us/step - loss: 172.8803 - val_loss: 171.1220\n",
      "Epoch 5/50\n",
      "60000/60000 [==============================] - 10s 166us/step - loss: 169.9775 - val_loss: 168.7354\n",
      "Epoch 6/50\n",
      "60000/60000 [==============================] - 10s 169us/step - loss: 167.6319 - val_loss: 166.8267\n",
      "Epoch 7/50\n",
      "60000/60000 [==============================] - 8s 132us/step - loss: 165.9589 - val_loss: 165.9618\n",
      "Epoch 8/50\n",
      "60000/60000 [==============================] - 8s 133us/step - loss: 164.6161 - val_loss: 165.1722\n",
      "Epoch 9/50\n",
      "60000/60000 [==============================] - 10s 165us/step - loss: 163.4096 - val_loss: 162.7358\n",
      "Epoch 10/50\n",
      "60000/60000 [==============================] - 8s 135us/step - loss: 162.2304 - val_loss: 160.8878\n",
      "Epoch 11/50\n",
      "60000/60000 [==============================] - 8s 139us/step - loss: 161.1875 - val_loss: 161.6822\n",
      "Epoch 12/50\n",
      "60000/60000 [==============================] - 11s 180us/step - loss: 160.2311 - val_loss: 159.9750\n",
      "Epoch 13/50\n",
      "60000/60000 [==============================] - 9s 154us/step - loss: 159.4228 - val_loss: 159.7923\n",
      "Epoch 14/50\n",
      "60000/60000 [==============================] - 10s 166us/step - loss: 158.6510 - val_loss: 159.0158\n",
      "Epoch 15/50\n",
      "60000/60000 [==============================] - 10s 171us/step - loss: 157.9955 - val_loss: 156.9009\n",
      "Epoch 16/50\n",
      "60000/60000 [==============================] - 10s 174us/step - loss: 157.4575 - val_loss: 157.1141\n",
      "Epoch 17/50\n",
      "60000/60000 [==============================] - 8s 142us/step - loss: 156.9991 - val_loss: 157.9930\n",
      "Epoch 18/50\n",
      "60000/60000 [==============================] - 9s 147us/step - loss: 156.5585 - val_loss: 155.8777\n",
      "Epoch 19/50\n",
      "60000/60000 [==============================] - 8s 142us/step - loss: 156.2030 - val_loss: 155.5645\n",
      "Epoch 20/50\n",
      "60000/60000 [==============================] - 9s 143us/step - loss: 155.8582 - val_loss: 155.4215\n",
      "Epoch 21/50\n",
      "60000/60000 [==============================] - 9s 144us/step - loss: 155.5324 - val_loss: 155.6804\n",
      "Epoch 22/50\n",
      "60000/60000 [==============================] - 9s 144us/step - loss: 155.2543 - val_loss: 158.4980\n",
      "Epoch 23/50\n",
      "60000/60000 [==============================] - 9s 145us/step - loss: 155.0384 - val_loss: 156.9567\n",
      "Epoch 24/50\n",
      "60000/60000 [==============================] - 8s 141us/step - loss: 154.7426 - val_loss: 155.1280\n",
      "Epoch 25/50\n",
      "60000/60000 [==============================] - 10s 172us/step - loss: 154.6012 - val_loss: 154.8305\n",
      "Epoch 26/50\n",
      "60000/60000 [==============================] - 9s 155us/step - loss: 154.3621 - val_loss: 155.9368\n",
      "Epoch 27/50\n",
      "60000/60000 [==============================] - 11s 190us/step - loss: 154.1675 - val_loss: 159.2599\n",
      "Epoch 28/50\n",
      "60000/60000 [==============================] - 11s 185us/step - loss: 153.9735 - val_loss: 154.3592\n",
      "Epoch 29/50\n",
      "60000/60000 [==============================] - 11s 186us/step - loss: 153.7640 - val_loss: 153.2957\n",
      "Epoch 30/50\n",
      "60000/60000 [==============================] - 11s 175us/step - loss: 153.6092 - val_loss: 154.1616\n",
      "Epoch 31/50\n",
      "60000/60000 [==============================] - 11s 189us/step - loss: 153.4491 - val_loss: 154.3600\n",
      "Epoch 32/50\n",
      "60000/60000 [==============================] - 12s 198us/step - loss: 153.2872 - val_loss: 156.7611\n",
      "Epoch 33/50\n",
      "60000/60000 [==============================] - 11s 185us/step - loss: 153.1118 - val_loss: 155.3331\n",
      "Epoch 34/50\n",
      "60000/60000 [==============================] - 11s 190us/step - loss: 152.9732 - val_loss: 154.4175\n",
      "Epoch 35/50\n",
      "60000/60000 [==============================] - 10s 172us/step - loss: 152.8152 - val_loss: 153.6966\n",
      "Epoch 36/50\n",
      "60000/60000 [==============================] - 11s 176us/step - loss: 152.7321 - val_loss: 154.4760\n",
      "Epoch 37/50\n",
      "60000/60000 [==============================] - 11s 188us/step - loss: 152.5801 - val_loss: 155.4265\n",
      "Epoch 38/50\n",
      "60000/60000 [==============================] - 10s 168us/step - loss: 152.4215 - val_loss: 152.3967\n",
      "Epoch 39/50\n",
      "60000/60000 [==============================] - 11s 177us/step - loss: 152.2758 - val_loss: 152.1236\n",
      "Epoch 40/50\n",
      "60000/60000 [==============================] - 11s 191us/step - loss: 152.1784 - val_loss: 153.1146\n",
      "Epoch 41/50\n",
      "60000/60000 [==============================] - 10s 159us/step - loss: 152.0707 - val_loss: 153.9245\n",
      "Epoch 42/50\n",
      "60000/60000 [==============================] - 11s 180us/step - loss: 151.9526 - val_loss: 153.6851\n",
      "Epoch 43/50\n",
      "60000/60000 [==============================] - 9s 158us/step - loss: 151.8224 - val_loss: 153.5605\n",
      "Epoch 44/50\n",
      "60000/60000 [==============================] - 8s 135us/step - loss: 151.7255 - val_loss: 154.4255\n",
      "Epoch 45/50\n",
      "60000/60000 [==============================] - 8s 138us/step - loss: 151.6451 - val_loss: 153.8395\n",
      "Epoch 46/50\n",
      "60000/60000 [==============================] - 8s 136us/step - loss: 151.5641 - val_loss: 152.9346\n",
      "Epoch 47/50\n",
      "60000/60000 [==============================] - 8s 139us/step - loss: 151.4382 - val_loss: 151.8198\n",
      "Epoch 48/50\n",
      "60000/60000 [==============================] - 8s 140us/step - loss: 151.3422 - val_loss: 155.7213\n",
      "Epoch 49/50\n",
      "60000/60000 [==============================] - 8s 138us/step - loss: 151.2535 - val_loss: 152.3092\n",
      "Epoch 50/50\n",
      "60000/60000 [==============================] - 8s 136us/step - loss: 151.2516 - val_loss: 153.0001\n"
     ]
    },
    {
     "data": {
      "text/plain": [
       "<keras.callbacks.History at 0x12a230978>"
      ]
     },
     "execution_count": 10,
     "metadata": {},
     "output_type": "execute_result"
    }
   ],
   "source": [
    "vae.fit(x_train, x_train,\n",
    "        shuffle=True,\n",
    "        epochs=epochs,\n",
    "        batch_size=batch_size,\n",
    "        validation_data=(x_test, x_test))"
   ]
  },
  {
   "cell_type": "code",
   "execution_count": 12,
   "metadata": {},
   "outputs": [],
   "source": [
    "n = 15  # figure with 15x15 digits\n",
    "digit_size = 28"
   ]
  },
  {
   "cell_type": "code",
   "execution_count": 13,
   "metadata": {},
   "outputs": [
    {
     "data": {
      "image/png": "[encoded data removed]",
      "text/plain": [
       "<Figure size 720x720 with 1 Axes>"
      ]
     },
     "metadata": {
      "needs_background": "light"
     },
     "output_type": "display_data"
    }
   ],
   "source": [
    "figure = np.zeros((digit_size * 3, digit_size * n))\n",
    "x = x_test[:batch_size,:]\n",
    "x_corupted = np.copy(x)\n",
    "x_corupted[:, 300:400] = 0\n",
    "x_encoded = vae.predict(x_corupted, batch_size=batch_size).reshape((-1, digit_size, digit_size))\n",
    "x = x.reshape((-1, digit_size, digit_size))\n",
    "x_corupted = x_corupted.reshape((-1, digit_size, digit_size))\n",
    "for i in range(n):\n",
    "    xi = x[i]\n",
    "    xi_c = x_corupted[i]\n",
    "    xi_e = x_encoded[i]\n",
    "    figure[:digit_size, i * digit_size:(i+1)*digit_size] = xi\n",
    "    figure[digit_size:2 * digit_size, i * digit_size:(i+1)*digit_size] = xi_c\n",
    "    figure[2 * digit_size:, i * digit_size:(i+1)*digit_size] = xi_e\n",
    "\n",
    "fig = plt.figure(figsize=(10, 10))\n",
    "plt.imshow(figure, cmap='Greys_r')\n",
    "plt.show()\n",
    "fig.savefig('i_{}.png'.format(use_loss))"
   ]
  },
  {
   "cell_type": "code",
   "execution_count": null,
   "metadata": {},
   "outputs": [],
   "source": []
  }
 ],
 "metadata": {
  "kernelspec": {
   "display_name": "Python 3",
   "language": "python",
   "name": "python3"
  },
  "language_info": {
   "codemirror_mode": {
    "name": "ipython",
    "version": 3
   },
   "file_extension": ".py",
   "mimetype": "text/x-python",
   "name": "python",
   "nbconvert_exporter": "python",
   "pygments_lexer": "ipython3",
   "version": "3.5.2"
  }
 },
 "nbformat": 4,
 "nbformat_minor": 2
}
