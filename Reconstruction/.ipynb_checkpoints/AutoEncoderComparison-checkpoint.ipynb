{
 "cells": [
  {
   "cell_type": "markdown",
   "metadata": {},
   "source": [
    "### To see the difference made by z dimensions on AutoEncoder"
   ]
  },
  {
   "cell_type": "code",
   "execution_count": 6,
   "metadata": {},
   "outputs": [],
   "source": [
    "import torch\n",
    "import torchvision.transforms as transforms\n",
    "import argparse, os, pickle, glob, cv2\n",
    "import matplotlib.pyplot as plt\n",
    "import numpy as np\n",
    "\n",
    "from utils.loss_function import select_loss_function\n",
    "from utils.get_cdim import update_code_dim\n",
    "\n",
    "from data.dataset import StanfordDog\n",
    "from Solver import LinearSolver, ConvSolver\n",
    "\n",
    "from models.simpleAE import simpleAE\n",
    "from models.LinearVAE import LinearVAE\n",
    "from models.ConvVAE import ConvVAE\n",
    "from models.CVAE import CVAE\n",
    "from models.DVAE import DVAE\n",
    "from models.GAN import Generator, Discriminator\n",
    "\n",
    "from torchvision.datasets import MNIST\n",
    "from scipy.stats import norm\n",
    "\n",
    "def visualize(model, train_loader, checkpoint_path):\n",
    "    model.load(path=checkpoint_path)\n",
    "\n",
    "    n = 15  # figure with 15x15 digits\n",
    "    digit_size = 32\n",
    "    figure = np.zeros((digit_size * n, digit_size * n, 1))\n",
    "    figure1 = np.zeros((digit_size * n, digit_size * n))\n",
    "    grid_x = np.linspace(-5, 5, n)\n",
    "    grid_y = np.linspace(-5, 5, n)\n",
    "\n",
    "    eg, _ = next(iter(train_loader))\n",
    "    if model.model_name == 'LinearVAE' or model.model_name == 'DVAE':\n",
    "        mu, sigma = model.Encoder(eg.view(eg.shape[0], 1, -1))\n",
    "        print(mu.shape, sigma.shape)\n",
    "        epsilon = torch.autograd.Variable(torch.randn(mu.size()), requires_grad=False).type(torch.FloatTensor)\n",
    "        sigma = torch.exp(sigma / 2)\n",
    "        z = (mu + sigma * epsilon).detach().numpy()[0, 0, :]\n",
    "    elif model.model_name == 'ConvVAE':\n",
    "        mu, sigma = model.Encoder(eg)\n",
    "        epsilon = torch.autograd.Variable(torch.randn(mu.size()), requires_grad=False).type(torch.FloatTensor)\n",
    "        sigma = torch.exp(sigma / 2)\n",
    "        print(sigma.shape)\n",
    "        z = (mu + sigma * epsilon).detach().numpy()[0, :].reshape(1, -1)\n",
    "    elif model.model_name == 'simpleAE':\n",
    "        z = model.Encoder(eg.view(eg.shape[0], 1, -1)).detach().numpy()[0, 0, :]\n",
    "\n",
    "    output = model.Decoder(torch.from_numpy(z).float()).reshape([1, 32, 32])\n",
    "    print(output.shape)\n",
    "    plt.subplot(121)\n",
    "    plt.imshow(transforms.ToPILImage()(output[:, :, :]).convert('RGB'))\n",
    "    plt.subplot(122)\n",
    "    plt.imshow(transforms.ToPILImage()(eg[0, :, :, :]).convert('RGB'))\n",
    "    plt.show()"
   ]
  },
  {
   "cell_type": "code",
   "execution_count": 2,
   "metadata": {},
   "outputs": [],
   "source": [
    "train_loader = torch.utils.data.DataLoader(dataset=MNIST('./data/mnist', train=True, transform=transforms.Compose([transforms.Resize(32), transforms.ToTensor()])), batch_size=32, shuffle=True)\n",
    "test_loader = torch.utils.data.DataLoader(dataset=MNIST('./data/mnist', train=False, transform=transforms.Compose([transforms.Resize(32), transforms.ToTensor()])), batch_size=32, shuffle=True)"
   ]
  },
  {
   "cell_type": "code",
   "execution_count": 3,
   "metadata": {},
   "outputs": [],
   "source": [
    "max_epoch = 20\n",
    "learning_rate = 1e-3\n",
    "loss_function = select_loss_function('MSELoss')\n",
    "z_dim = 2\n",
    "batch_size = 32"
   ]
  },
  {
   "cell_type": "code",
   "execution_count": 4,
   "metadata": {},
   "outputs": [
    {
     "name": "stdout",
     "output_type": "stream",
     "text": [
      "simpleAE(\n",
      "  (Encoder): Encoder(\n",
      "    (main): Sequential(\n",
      "      (0): Linear(in_features=1024, out_features=2, bias=True)\n",
      "      (1): ReLU()\n",
      "    )\n",
      "  )\n",
      "  (Decoder): Decoder(\n",
      "    (main): Sequential(\n",
      "      (0): Linear(in_features=2, out_features=1024, bias=True)\n",
      "      (1): ReLU()\n",
      "    )\n",
      "  )\n",
      ")\n",
      "Train:\tEpoch : 0\tTime : 11.01331901550293s\tMSELoss : 0.08375991135835648\n",
      "Evaluation:\tEpoch : 0\tTime : 1.3871099948883057s\tMSELoss : 0.07818207144737244\n",
      "Test:\tEpoch : 0\tTime : 1.3146450519561768s\tMSELoss : 0.07814733684062958\n",
      "\n",
      "Train:\tEpoch : 10\tTime : 8.279227018356323s\tMSELoss : 0.07702551037073135\n",
      "Evaluation:\tEpoch : 10\tTime : 1.1922738552093506s\tMSELoss : 0.07817662507295609\n",
      "Test:\tEpoch : 10\tTime : 1.218770980834961s\tMSELoss : 0.07814355939626694\n",
      "\n"
     ]
    },
    {
     "data": {
      "text/plain": [
       "'checkpoints/simpleAE_mnist_0605_20:21:08.pth'"
      ]
     },
     "execution_count": 4,
     "metadata": {},
     "output_type": "execute_result"
    }
   ],
   "source": [
    "AutoEncoder = simpleAE(n_feature=32*32*1, n_hidden=z_dim, n_output=32*32*1)\n",
    "optimizer = torch.optim.Adam(AutoEncoder.parameters(), lr=learning_rate, betas=(0.9, 0.999), eps=1e-8) # (beta1, beta2)\n",
    "solver = LinearSolver(AutoEncoder, loss_function, optimizer, 1)\n",
    "print(AutoEncoder)\n",
    "solver.train_and_decode(train_loader, test_loader, test_loader, max_epoch=max_epoch)\n",
    "AutoEncoder.save(dataset='mnist')"
   ]
  },
  {
   "cell_type": "code",
   "execution_count": 7,
   "metadata": {},
   "outputs": [
    {
     "name": "stdout",
     "output_type": "stream",
     "text": [
      "torch.Size([1, 32, 32])\n"
     ]
    },
    {
     "data": {
      "image/png": "[encoded data removed]",
      "text/plain": [
       "<Figure size 432x288 with 2 Axes>"
      ]
     },
     "metadata": {
      "needs_background": "light"
     },
     "output_type": "display_data"
    }
   ],
   "source": [
    "visualize(AutoEncoder, train_loader, 'checkpoints/simpleAE_mnist_0605_20:21:08.pth')"
   ]
  },
  {
   "cell_type": "code",
   "execution_count": 8,
   "metadata": {},
   "outputs": [
    {
     "name": "stdout",
     "output_type": "stream",
     "text": [
      "simpleAE(\n",
      "  (Encoder): Encoder(\n",
      "    (main): Sequential(\n",
      "      (0): Linear(in_features=1024, out_features=8, bias=True)\n",
      "      (1): ReLU()\n",
      "    )\n",
      "  )\n",
      "  (Decoder): Decoder(\n",
      "    (main): Sequential(\n",
      "      (0): Linear(in_features=8, out_features=1024, bias=True)\n",
      "      (1): ReLU()\n",
      "    )\n",
      "  )\n",
      ")\n",
      "Train:\tEpoch : 0\tTime : 12.139427900314331s\tMSELoss : 0.05941220000386238\n",
      "Evaluation:\tEpoch : 0\tTime : 1.6269590854644775s\tMSELoss : 0.054555442184209824\n",
      "Test:\tEpoch : 0\tTime : 1.4612360000610352s\tMSELoss : 0.054548610001802444\n",
      "\n",
      "Train:\tEpoch : 10\tTime : 11.142555952072144s\tMSELoss : 0.0515410453081131\n",
      "Evaluation:\tEpoch : 10\tTime : 1.466968059539795s\tMSELoss : 0.05188070610165596\n",
      "Test:\tEpoch : 10\tTime : 1.4973630905151367s\tMSELoss : 0.05188481882214546\n",
      "\n"
     ]
    },
    {
     "data": {
      "text/plain": [
       "'checkpoints/simpleAE_mnist_0605_20:41:07.pth'"
      ]
     },
     "execution_count": 8,
     "metadata": {},
     "output_type": "execute_result"
    }
   ],
   "source": [
    "z_dim = 8\n",
    "AutoEncoder = simpleAE(n_feature=32*32*1, n_hidden=z_dim, n_output=32*32*1)\n",
    "optimizer = torch.optim.Adam(AutoEncoder.parameters(), lr=learning_rate, betas=(0.9, 0.999), eps=1e-8) # (beta1, beta2)\n",
    "solver = LinearSolver(AutoEncoder, loss_function, optimizer, 1)\n",
    "print(AutoEncoder)\n",
    "solver.train_and_decode(train_loader, test_loader, test_loader, max_epoch=max_epoch)\n",
    "AutoEncoder.save(dataset='mnist')"
   ]
  },
  {
   "cell_type": "code",
   "execution_count": 9,
   "metadata": {},
   "outputs": [
    {
     "name": "stdout",
     "output_type": "stream",
     "text": [
      "torch.Size([1, 32, 32])\n"
     ]
    },
    {
     "data": {
      "image/png": "[encoded data removed]",
      "text/plain": [
       "<Figure size 432x288 with 2 Axes>"
      ]
     },
     "metadata": {
      "needs_background": "light"
     },
     "output_type": "display_data"
    }
   ],
   "source": [
    "visualize(AutoEncoder, train_loader, 'checkpoints/simpleAE_mnist_0605_20:41:07.pth')"
   ]
  },
  {
   "cell_type": "code",
   "execution_count": 10,
   "metadata": {},
   "outputs": [
    {
     "name": "stdout",
     "output_type": "stream",
     "text": [
      "simpleAE(\n",
      "  (Encoder): Encoder(\n",
      "    (main): Sequential(\n",
      "      (0): Linear(in_features=1024, out_features=32, bias=True)\n",
      "      (1): ReLU()\n",
      "    )\n",
      "  )\n",
      "  (Decoder): Decoder(\n",
      "    (main): Sequential(\n",
      "      (0): Linear(in_features=32, out_features=1024, bias=True)\n",
      "      (1): ReLU()\n",
      "    )\n",
      "  )\n",
      ")\n",
      "Train:\tEpoch : 0\tTime : 13.077965021133423s\tMSELoss : 0.025524059310555458\n",
      "Evaluation:\tEpoch : 0\tTime : 1.306581974029541s\tMSELoss : 0.01886127144098282\n",
      "Test:\tEpoch : 0\tTime : 1.3240129947662354s\tMSELoss : 0.018864134326577187\n",
      "\n",
      "Train:\tEpoch : 10\tTime : 12.82094407081604s\tMSELoss : 0.01806665025651455\n",
      "Evaluation:\tEpoch : 10\tTime : 1.832942008972168s\tMSELoss : 0.018039679154753685\n",
      "Test:\tEpoch : 10\tTime : 1.372253179550171s\tMSELoss : 0.018038786947727203\n",
      "\n"
     ]
    },
    {
     "data": {
      "text/plain": [
       "'checkpoints/simpleAE_mnist_0605_20:50:25.pth'"
      ]
     },
     "execution_count": 10,
     "metadata": {},
     "output_type": "execute_result"
    }
   ],
   "source": [
    "z_dim = 32\n",
    "AutoEncoder = simpleAE(n_feature=32*32*1, n_hidden=z_dim, n_output=32*32*1)\n",
    "optimizer = torch.optim.Adam(AutoEncoder.parameters(), lr=learning_rate, betas=(0.9, 0.999), eps=1e-8) # (beta1, beta2)\n",
    "solver = LinearSolver(AutoEncoder, loss_function, optimizer, 1)\n",
    "print(AutoEncoder)\n",
    "solver.train_and_decode(train_loader, test_loader, test_loader, max_epoch=max_epoch)\n",
    "AutoEncoder.save(dataset='mnist')"
   ]
  },
  {
   "cell_type": "code",
   "execution_count": 11,
   "metadata": {},
   "outputs": [
    {
     "name": "stdout",
     "output_type": "stream",
     "text": [
      "torch.Size([1, 32, 32])\n"
     ]
    },
    {
     "data": {
      "image/png": "[encoded data removed]",
      "text/plain": [
       "<Figure size 432x288 with 2 Axes>"
      ]
     },
     "metadata": {
      "needs_background": "light"
     },
     "output_type": "display_data"
    }
   ],
   "source": [
    "visualize(AutoEncoder, train_loader, 'checkpoints/simpleAE_mnist_0605_20:50:25.pth')"
   ]
  },
  {
   "cell_type": "code",
   "execution_count": 12,
   "metadata": {},
   "outputs": [
    {
     "name": "stdout",
     "output_type": "stream",
     "text": [
      "simpleAE(\n",
      "  (Encoder): Encoder(\n",
      "    (main): Sequential(\n",
      "      (0): Linear(in_features=1024, out_features=128, bias=True)\n",
      "      (1): ReLU()\n",
      "    )\n",
      "  )\n",
      "  (Decoder): Decoder(\n",
      "    (main): Sequential(\n",
      "      (0): Linear(in_features=128, out_features=1024, bias=True)\n",
      "      (1): ReLU()\n",
      "    )\n",
      "  )\n",
      ")\n",
      "Train:\tEpoch : 0\tTime : 36.26859402656555s\tMSELoss : 0.010505025275051594\n",
      "Evaluation:\tEpoch : 0\tTime : 2.6321630477905273s\tMSELoss : 0.006714720278978348\n",
      "Test:\tEpoch : 0\tTime : 3.7533860206604004s\tMSELoss : 0.006715765222907066\n",
      "\n",
      "Train:\tEpoch : 10\tTime : 24.233690977096558s\tMSELoss : 0.005671817809343338\n",
      "Evaluation:\tEpoch : 10\tTime : 1.3838870525360107s\tMSELoss : 0.005567762069404125\n",
      "Test:\tEpoch : 10\tTime : 1.4042410850524902s\tMSELoss : 0.005564893130213022\n",
      "\n"
     ]
    },
    {
     "data": {
      "text/plain": [
       "'checkpoints/simpleAE_mnist_0605_21:01:27.pth'"
      ]
     },
     "execution_count": 12,
     "metadata": {},
     "output_type": "execute_result"
    }
   ],
   "source": [
    "z_dim = 128\n",
    "AutoEncoder = simpleAE(n_feature=32*32*1, n_hidden=z_dim, n_output=32*32*1)\n",
    "optimizer = torch.optim.Adam(AutoEncoder.parameters(), lr=learning_rate, betas=(0.9, 0.999), eps=1e-8) # (beta1, beta2)\n",
    "solver = LinearSolver(AutoEncoder, loss_function, optimizer, 1)\n",
    "print(AutoEncoder)\n",
    "solver.train_and_decode(train_loader, test_loader, test_loader, max_epoch=max_epoch)\n",
    "AutoEncoder.save(dataset='mnist')"
   ]
  },
  {
   "cell_type": "code",
   "execution_count": 16,
   "metadata": {},
   "outputs": [
    {
     "name": "stdout",
     "output_type": "stream",
     "text": [
      "torch.Size([1, 32, 32])\n"
     ]
    },
    {
     "data": {
      "image/png": "[encoded data removed]",
      "text/plain": [
       "<Figure size 432x288 with 2 Axes>"
      ]
     },
     "metadata": {
      "needs_background": "light"
     },
     "output_type": "display_data"
    }
   ],
   "source": [
    "visualize(AutoEncoder, train_loader, 'checkpoints/simpleAE_mnist_0605_21:01:27.pth')"
   ]
  },
  {
   "cell_type": "code",
   "execution_count": null,
   "metadata": {},
   "outputs": [],
   "source": []
  }
 ],
 "metadata": {
  "kernelspec": {
   "display_name": "Python 3",
   "language": "python",
   "name": "python3"
  },
  "language_info": {
   "codemirror_mode": {
    "name": "ipython",
    "version": 3
   },
   "file_extension": ".py",
   "mimetype": "text/x-python",
   "name": "python",
   "nbconvert_exporter": "python",
   "pygments_lexer": "ipython3",
   "version": "3.5.2"
  }
 },
 "nbformat": 4,
 "nbformat_minor": 2
}
