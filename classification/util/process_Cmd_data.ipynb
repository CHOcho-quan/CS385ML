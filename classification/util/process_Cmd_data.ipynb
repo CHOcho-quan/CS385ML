{
 "cells": [
  {
   "cell_type": "code",
   "execution_count": 7,
   "metadata": {},
   "outputs": [],
   "source": [
    "import matplotlib.pyplot as plt\n",
    "import os\n",
    "import sys\n",
    "import string"
   ]
  },
  {
   "cell_type": "code",
   "execution_count": 12,
   "metadata": {},
   "outputs": [
    {
     "name": "stdout",
     "output_type": "stream",
     "text": [
      "{'Epoch:': '[0][0/965]', 'Time': '0.023', 'Data': '0.005', 'Loss': '5.3828', 'Prec@1': '0.000', 'Prec@5': '0.000'}\n",
      "{'Epoch:': '[0][400/965]', 'Time': '0.010', 'Data': '0.003', 'Loss': '4.8974', 'Prec@1': '3.398', 'Prec@5': '13.887'}\n",
      "{'Epoch:': '[0][800/965]', 'Time': '0.009', 'Data': '0.003', 'Loss': '4.6238', 'Prec@1': '4.760', 'Prec@5': '18.024'}\n",
      "{'Test:': '[0/419]', 'Time': '0.008', 'Loss': '4.0748', 'Prec@1': '0.000', 'Prec@5': '37.500'}\n",
      "{'Test:': '[400/419]', 'Time': '0.005', 'Loss': '4.0734', 'Prec@1': '9.149', 'Prec@5': '27.541'}\n",
      "{'Prec@1': '9.217', 'Prec@5': '27.502'}\n",
      "{'Epoch:': '[1][0/965]', 'Time': '0.011', 'Data': '0.003', 'Loss': '3.7305', 'Prec@1': '0.000', 'Prec@5': '56.250'}\n",
      "{'Epoch:': '[1][400/965]', 'Time': '0.009', 'Data': '0.003', 'Loss': '3.7950', 'Prec@1': '12.406', 'Prec@5': '34.585'}\n",
      "{'Epoch:': '[1][800/965]', 'Time': '0.009', 'Data': '0.003', 'Loss': '3.7900', 'Prec@1': '12.539', 'Prec@5': '35.276'}\n",
      "{'Test:': '[0/419]', 'Time': '0.006', 'Loss': '3.4179', 'Prec@1': '12.500', 'Prec@5': '43.750'}\n",
      "{'Test:': '[400/419]', 'Time': '0.005', 'Loss': '3.9155', 'Prec@1': '11.487', 'Prec@5': '31.858'}\n",
      "{'Prec@1': '11.533', 'Prec@5': '31.879'}\n",
      "{'Epoch:': '[2][0/965]', 'Time': '0.010', 'Data': '0.004', 'Loss': '2.8066', 'Prec@1': '18.750', 'Prec@5': '68.750'}\n",
      "{'Epoch:': '[2][400/965]', 'Time': '0.010', 'Data': '0.003', 'Loss': '3.2595', 'Prec@1': '21.633', 'Prec@5': '49.517'}\n",
      "{'Epoch:': '[2][800/965]', 'Time': '0.010', 'Data': '0.003', 'Loss': '3.3164', 'Prec@1': '20.841', 'Prec@5': '48.182'}\n",
      "{'Test:': '[0/419]', 'Time': '0.006', 'Loss': '3.5585', 'Prec@1': '6.250', 'Prec@5': '56.250'}\n",
      "{'Test:': '[400/419]', 'Time': '0.005', 'Loss': '3.8178', 'Prec@1': '13.700', 'Prec@5': '36.612'}\n",
      "{'Prec@1': '13.654', 'Prec@5': '36.570'}\n",
      "{'Epoch:': '[3][0/965]', 'Time': '0.011', 'Data': '0.003', 'Loss': '2.1491', 'Prec@1': '37.500', 'Prec@5': '75.000'}\n",
      "{'Epoch:': '[3][400/965]', 'Time': '0.010', 'Data': '0.003', 'Loss': '2.6710', 'Prec@1': '33.463', 'Prec@5': '63.794'}\n",
      "{'Epoch:': '[3][800/965]', 'Time': '0.010', 'Data': '0.003', 'Loss': '2.8149', 'Prec@1': '30.337', 'Prec@5': '60.627'}\n",
      "{'Test:': '[0/419]', 'Time': '0.008', 'Loss': '4.2918', 'Prec@1': '0.000', 'Prec@5': '37.500'}\n",
      "{'Test:': '[400/419]', 'Time': '0.005', 'Loss': '4.0227', 'Prec@1': '14.511', 'Prec@5': '35.786'}\n",
      "{'Prec@1': '14.416', 'Prec@5': '35.704'}\n",
      "{'Epoch:': '[4][0/965]', 'Time': '0.011', 'Data': '0.003', 'Loss': '2.4781', 'Prec@1': '56.250', 'Prec@5': '81.250'}\n",
      "{'Epoch:': '[4][400/965]', 'Time': '0.010', 'Data': '0.003', 'Loss': '1.9776', 'Prec@1': '49.984', 'Prec@5': '78.367'}\n",
      "{'Epoch:': '[4][800/965]', 'Time': '0.010', 'Data': '0.003', 'Loss': '2.2001', 'Prec@1': '43.586', 'Prec@5': '73.970'}\n",
      "{'Test:': '[0/419]', 'Time': '0.007', 'Loss': '5.0463', 'Prec@1': '18.750', 'Prec@5': '25.000'}\n",
      "{'Test:': '[400/419]', 'Time': '0.005', 'Loss': '4.3565', 'Prec@1': '14.059', 'Prec@5': '35.786'}\n",
      "{'Prec@1': '13.923', 'Prec@5': '35.808'}\n",
      "{'Epoch:': '[5][0/965]', 'Time': '0.008', 'Data': '0.003', 'Loss': '0.9808', 'Prec@1': '75.000', 'Prec@5': '81.250'}\n",
      "{'Epoch:': '[5][400/965]', 'Time': '0.010', 'Data': '0.003', 'Loss': '1.2225', 'Prec@1': '67.067', 'Prec@5': '90.305'}\n",
      "{'Epoch:': '[5][800/965]', 'Time': '0.009', 'Data': '0.003', 'Loss': '1.4342', 'Prec@1': '60.854', 'Prec@5': '87.149'}\n",
      "{'Test:': '[0/419]', 'Time': '0.007', 'Loss': '5.5482', 'Prec@1': '6.250', 'Prec@5': '50.000'}\n",
      "{'Test:': '[400/419]', 'Time': '0.005', 'Loss': '4.9477', 'Prec@1': '12.858', 'Prec@5': '34.258'}\n",
      "{'Prec@1': '12.892', 'Prec@5': '34.269'}\n",
      "{'Epoch:': '[6][0/965]', 'Time': '0.011', 'Data': '0.003', 'Loss': '0.5218', 'Prec@1': '81.250', 'Prec@5': '100.000'}\n",
      "{'Epoch:': '[6][400/965]', 'Time': '0.010', 'Data': '0.003', 'Loss': '0.7184', 'Prec@1': '80.393', 'Prec@5': '96.291'}\n",
      "{'Epoch:': '[6][800/965]', 'Time': '0.011', 'Data': '0.003', 'Loss': '0.8474', 'Prec@1': '76.935', 'Prec@5': '95.053'}\n",
      "{'Test:': '[0/419]', 'Time': '0.008', 'Loss': '6.5326', 'Prec@1': '0.000', 'Prec@5': '18.750'}\n",
      "{'Test:': '[400/419]', 'Time': '0.007', 'Loss': '5.8177', 'Prec@1': '12.469', 'Prec@5': '32.357'}\n",
      "{'Prec@1': '12.489', 'Prec@5': '32.357'}\n",
      "{'Epoch:': '[7][0/965]', 'Time': '0.013', 'Data': '0.004', 'Loss': '0.5592', 'Prec@1': '87.500', 'Prec@5': '93.750'}\n",
      "{'Epoch:': '[7][400/965]', 'Time': '0.012', 'Data': '0.003', 'Loss': '0.4309', 'Prec@1': '87.734', 'Prec@5': '98.504'}\n",
      "{'Epoch:': '[7][800/965]', 'Time': '0.012', 'Data': '0.003', 'Loss': '0.4640', 'Prec@1': '86.369', 'Prec@5': '98.354'}\n",
      "{'Test:': '[0/419]', 'Time': '0.008', 'Loss': '5.7979', 'Prec@1': '12.500', 'Prec@5': '31.250'}\n",
      "{'Test:': '[400/419]', 'Time': '0.008', 'Loss': '6.4627', 'Prec@1': '12.827', 'Prec@5': '31.671'}\n",
      "{'Prec@1': '12.728', 'Prec@5': '31.581'}\n",
      "{'Epoch:': '[8][0/965]', 'Time': '0.017', 'Data': '0.010', 'Loss': '0.4767', 'Prec@1': '87.500', 'Prec@5': '93.750'}\n",
      "{'Epoch:': '[8][400/965]', 'Time': '0.012', 'Data': '0.003', 'Loss': '0.2315', 'Prec@1': '93.641', 'Prec@5': '99.626'}\n",
      "{'Epoch:': '[8][800/965]', 'Time': '0.011', 'Data': '0.003', 'Loss': '0.2564', 'Prec@1': '92.837', 'Prec@5': '99.501'}\n",
      "{'Test:': '[0/419]', 'Time': '0.008', 'Loss': '7.5092', 'Prec@1': '6.250', 'Prec@5': '25.000'}\n",
      "{'Test:': '[400/419]', 'Time': '0.005', 'Loss': '6.9043', 'Prec@1': '12.391', 'Prec@5': '31.936'}\n",
      "{'Prec@1': '12.384', 'Prec@5': '31.864'}\n",
      "{'Epoch:': '[9][0/965]', 'Time': '0.008', 'Data': '0.003', 'Loss': '0.0573', 'Prec@1': '100.000', 'Prec@5': '100.000'}\n",
      "{'Epoch:': '[9][400/965]', 'Time': '0.009', 'Data': '0.003', 'Loss': '0.1131', 'Prec@1': '97.350', 'Prec@5': '99.938'}\n",
      "{'Epoch:': '[9][800/965]', 'Time': '0.009', 'Data': '0.003', 'Loss': '0.1270', 'Prec@1': '96.816', 'Prec@5': '99.899'}\n",
      "{'Test:': '[0/419]', 'Time': '0.006', 'Loss': '5.8992', 'Prec@1': '18.750', 'Prec@5': '43.750'}\n",
      "{'Test:': '[400/419]', 'Time': '0.005', 'Loss': '6.9489', 'Prec@1': '13.498', 'Prec@5': '32.450'}\n",
      "{'Prec@1': '13.460', 'Prec@5': '32.626'}\n",
      "{'Epoch:': '[10][0/965]', 'Time': '0.011', 'Data': '0.003', 'Loss': '0.0683', 'Prec@1': '100.000', 'Prec@5': '100.000'}\n",
      "{'Epoch:': '[10][400/965]', 'Time': '0.009', 'Data': '0.003', 'Loss': '0.0598', 'Prec@1': '98.753', 'Prec@5': '99.953'}\n",
      "{'Epoch:': '[10][800/965]', 'Time': '0.009', 'Data': '0.003', 'Loss': '0.0693', 'Prec@1': '98.556', 'Prec@5': '99.930'}\n",
      "{'Test:': '[0/419]', 'Time': '0.006', 'Loss': '7.0469', 'Prec@1': '18.750', 'Prec@5': '31.250'}\n",
      "{'Test:': '[400/419]', 'Time': '0.005', 'Loss': '7.0946', 'Prec@1': '13.201', 'Prec@5': '32.700'}\n",
      "{'Prec@1': '13.251', 'Prec@5': '32.731'}\n",
      "{'Epoch:': '[11][0/965]', 'Time': '0.009', 'Data': '0.003', 'Loss': '0.0738', 'Prec@1': '100.000', 'Prec@5': '100.000'}\n",
      "{'Epoch:': '[11][400/965]', 'Time': '0.011', 'Data': '0.003', 'Loss': '0.0310', 'Prec@1': '99.564', 'Prec@5': '99.984'}\n",
      "{'Epoch:': '[11][800/965]', 'Time': '0.012', 'Data': '0.003', 'Loss': '0.0387', 'Prec@1': '99.446', 'Prec@5': '99.945'}\n",
      "{'Test:': '[0/419]', 'Time': '0.005', 'Loss': '8.4432', 'Prec@1': '12.500', 'Prec@5': '43.750'}\n",
      "{'Test:': '[400/419]', 'Time': '0.007', 'Loss': '7.0284', 'Prec@1': '13.794', 'Prec@5': '33.292'}\n",
      "{'Prec@1': '13.759', 'Prec@5': '33.254'}\n",
      "{'Epoch:': '[12][0/965]', 'Time': '0.016', 'Data': '0.004', 'Loss': '0.5731', 'Prec@1': '93.750', 'Prec@5': '93.750'}\n",
      "{'Epoch:': '[12][400/965]', 'Time': '0.014', 'Data': '0.003', 'Loss': '0.0206', 'Prec@1': '99.688', 'Prec@5': '99.922'}\n",
      "{'Epoch:': '[12][800/965]', 'Time': '0.013', 'Data': '0.003', 'Loss': '0.0174', 'Prec@1': '99.727', 'Prec@5': '99.961'}\n",
      "{'Test:': '[0/419]', 'Time': '0.008', 'Loss': '6.6516', 'Prec@1': '12.500', 'Prec@5': '31.250'}\n",
      "{'Test:': '[400/419]', 'Time': '0.007', 'Loss': '6.9053', 'Prec@1': '13.794', 'Prec@5': '33.198'}\n",
      "{'Prec@1': '13.714', 'Prec@5': '33.119'}\n",
      "[4.76, 12.539, 20.841, 30.337, 43.586, 60.854, 76.935, 86.369, 92.837, 96.816, 98.556, 99.446, 99.727]\n",
      "[18.024, 35.276, 48.182, 60.627, 73.97, 87.149, 95.053, 98.354, 99.501, 99.899, 99.93, 99.945, 99.961]\n",
      "[9.217, 11.533, 13.654, 14.416, 13.923, 12.892, 12.489, 12.728, 12.384, 13.46, 13.251, 13.759, 13.714]\n",
      "[27.502, 31.879, 36.57, 35.704, 35.808, 34.269, 32.357, 31.581, 31.864, 32.626, 32.731, 33.254, 33.119]\n"
     ]
    }
   ],
   "source": [
    "def parse(line):\n",
    "    # return a dict \n",
    "    items = line.split()\n",
    "    ret = {}\n",
    "    for i in range(0,len(items)-1):\n",
    "        if(items[i] in [\"Epoch:\", \"Test:\"] or (len(items) < 5 and items[i][0] in string.ascii_letters)):\n",
    "            ret[items[i]] = items[i+1]\n",
    "        elif(items[i][0] in string.ascii_letters):\n",
    "            ret[items[i]] = items[i+2][1:-1]\n",
    "#         Epoch: Time 0.011 (0.011)\tData 0.003 (0.003)\tLoss 3.7305 (3.7305)\tPrec@1 0.000 (0.000)\tPrec@5 56.250 (56.250)\n",
    "    return ret\n",
    "TrainPrec1 = [None]\n",
    "TrainPrec5 = [None]\n",
    "TestPrec1 = []\n",
    "TestPrec5 = []\n",
    "with open(\"../tmp/nohup.out\",\"r\") as f:\n",
    "    for l in f.readlines():\n",
    "        itms = parse(l)\n",
    "        print(itms)\n",
    "        if(\"Epoch:\" in itms.keys()): # training phase\n",
    "            TrainPrec1[-1] = float(itms['Prec@1'])\n",
    "            TrainPrec5[-1] = float(itms['Prec@5'])\n",
    "        elif(\"Test:\" not in itms.keys()): # validating phase\n",
    "            TestPrec1.append(float(itms['Prec@1']))\n",
    "            TestPrec5.append(float(itms['Prec@5']))\n",
    "            TrainPrec1.append(None)\n",
    "            TrainPrec5.append(None)\n",
    "TrainPrec1 = TrainPrec1[:-1]\n",
    "TrainPrec5 = TrainPrec5[:-1]\n",
    "print(TrainPrec1)\n",
    "print(TrainPrec5)\n",
    "print(TestPrec1)\n",
    "print(TestPrec5)"
   ]
  },
  {
   "cell_type": "code",
   "execution_count": 20,
   "metadata": {},
   "outputs": [
    {
     "data": {
      "image/png": "[encoded data removed]",
      "text/plain": [
       "<matplotlib.figure.Figure at 0x2e01e92a198>"
      ]
     },
     "metadata": {},
     "output_type": "display_data"
    }
   ],
   "source": [
    "X = [0,1,2,3,4,5,6,7,8,9,10,11,12]\n",
    "plt.plot(X,TrainPrec1,label = \"TrainPrec1\")\n",
    "plt.plot(X,TrainPrec5,label = \"TrainPrec5\")\n",
    "plt.plot(X,TestPrec1,label = \"TestPrec1\")\n",
    "plt.plot(X,TestPrec5,label = \"TestPrec5\")\n",
    "plt.legend()\n",
    "plt.show()"
   ]
  },
  {
   "cell_type": "code",
   "execution_count": null,
   "metadata": {},
   "outputs": [],
   "source": [
    "haha"
   ]
  }
 ],
 "metadata": {
  "kernelspec": {
   "display_name": "Python 3",
   "language": "python",
   "name": "python3"
  },
  "language_info": {
   "codemirror_mode": {
    "name": "ipython",
    "version": 3
   },
   "file_extension": ".py",
   "mimetype": "text/x-python",
   "name": "python",
   "nbconvert_exporter": "python",
   "pygments_lexer": "ipython3",
   "version": "3.6.3"
  }
 },
 "nbformat": 4,
 "nbformat_minor": 2
}
