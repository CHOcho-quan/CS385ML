{
 "cells": [
  {
   "cell_type": "code",
   "execution_count": 1,
   "metadata": {},
   "outputs": [],
   "source": [
    "import sys,glob\n",
    "sys.path.append(\"../\")\n",
    "from Reconstruction.models.simpleAE import simpleAE\n",
    "from Reconstruction.models.LinearVAE import LinearVAE\n",
    "from torchvision.datasets import MNIST\n",
    "import torch\n",
    "import torchvision.transforms as transforms\n",
    "import os, pickle, cv2\n",
    "import matplotlib.pyplot as plt\n",
    "import numpy as np"
   ]
  },
  {
   "cell_type": "code",
   "execution_count": 2,
   "metadata": {},
   "outputs": [],
   "source": [
    "from sklearn.manifold import TSNE"
   ]
  },
  {
   "cell_type": "code",
   "execution_count": 25,
   "metadata": {},
   "outputs": [
    {
     "name": "stdout",
     "output_type": "stream",
     "text": [
      "Downloading http://yann.lecun.com/exdb/mnist/train-images-idx3-ubyte.gz\n",
      "Downloading http://yann.lecun.com/exdb/mnist/train-labels-idx1-ubyte.gz\n",
      "Downloading http://yann.lecun.com/exdb/mnist/t10k-images-idx3-ubyte.gz\n",
      "Downloading http://yann.lecun.com/exdb/mnist/t10k-labels-idx1-ubyte.gz\n",
      "Processing...\n",
      "Done!\n"
     ]
    }
   ],
   "source": [
    "batch_size = 32\n",
    "train_loader = torch.utils.data.DataLoader(dataset=MNIST('../Reconstruction/data/{0}'.format(\"mnist\"), train=True,download=True ,transform=transforms.Compose([transforms.Resize(32), transforms.ToTensor()])), batch_size=batch_size, shuffle=True)\n",
    "test_loader = torch.utils.data.DataLoader(dataset=MNIST('../Reconstruction/data/{0}'.format(\"mnist\"), train=False,download=True, transform=transforms.Compose([transforms.Resize(32), transforms.ToTensor()])), batch_size=batch_size, shuffle=True)\n"
   ]
  },
  {
   "cell_type": "code",
   "execution_count": 12,
   "metadata": {},
   "outputs": [
    {
     "data": {
      "text/plain": [
       "['../Reconstruction/minst_checkpoints/LinearVAE_16.pth',\n",
       " '../Reconstruction/minst_checkpoints/LinearVAE_64.pth',\n",
       " '../Reconstruction/minst_checkpoints/LinearVAE_128.pth',\n",
       " '../Reconstruction/minst_checkpoints/LinearVAE_32.pth']"
      ]
     },
     "execution_count": 12,
     "metadata": {},
     "output_type": "execute_result"
    }
   ],
   "source": [
    "checkpoints = glob.glob(pathname='../Reconstruction/minst_checkpoints/{0}*'.format(\"LinearVAE\"))\n",
    "checkpoints"
   ]
  },
  {
   "cell_type": "code",
   "execution_count": 37,
   "metadata": {},
   "outputs": [
    {
     "name": "stdout",
     "output_type": "stream",
     "text": [
      "16\n",
      "64\n",
      "32\n",
      "16\n"
     ]
    },
    {
     "data": {
      "image/png": "[encoded data removed]",
      "text/plain": [
       "<matplotlib.figure.Figure at 0x7fc05abb5fd0>"
      ]
     },
     "metadata": {},
     "output_type": "display_data"
    },
    {
     "name": "stdout",
     "output_type": "stream",
     "text": [
      "64\n"
     ]
    },
    {
     "data": {
      "image/png": "[encoded data removed]",
      "text/plain": [
       "<matplotlib.figure.Figure at 0x7fc05b83aa58>"
      ]
     },
     "metadata": {},
     "output_type": "display_data"
    },
    {
     "name": "stdout",
     "output_type": "stream",
     "text": [
      "32\n"
     ]
    },
    {
     "data": {
      "image/png": "[encoded data removed]",
      "text/plain": [
       "<matplotlib.figure.Figure at 0x7fc05ac31d30>"
      ]
     },
     "metadata": {},
     "output_type": "display_data"
    }
   ],
   "source": [
    "models = []\n",
    "dims = [16, 64, 32]\n",
    "for i in dims:\n",
    "    print(i)\n",
    "    model = LinearVAE(z_dim=i, hidden=512, num_channels=32*32)\n",
    "    model.load(path='../Reconstruction/minst_checkpoints/LinearVAE_{}.pth'.format(i))\n",
    "    models.append(model)\n",
    "    \n",
    "for i,model in zip(dims,models):\n",
    "    print(i)\n",
    "    eg, _ = next(iter(train_loader))\n",
    "    mu, sigma = model.encoder(eg.view(eg.shape[0], 1, -1))\n",
    "    epsilon = torch.autograd.Variable(torch.randn(mu.size()), requires_grad=False).type(torch.FloatTensor)\n",
    "    sigma = torch.exp(sigma / 2)\n",
    "    z = (mu + sigma * epsilon).detach().numpy()[0, 0, :]\n",
    "\n",
    "    output = model.decoder(torch.from_numpy(z).float()).detach().numpy().reshape(32, 32)\n",
    "    plt.subplot(121)\n",
    "    plt.imshow(output)\n",
    "    plt.subplot(122)\n",
    "    plt.imshow(eg[0, 0, :, :].numpy())\n",
    "    plt.show()"
   ]
  },
  {
   "cell_type": "markdown",
   "metadata": {},
   "source": [
    "## generate "
   ]
  },
  {
   "cell_type": "code",
   "execution_count": 44,
   "metadata": {},
   "outputs": [],
   "source": [
    "model = models[2]"
   ]
  },
  {
   "cell_type": "code",
   "execution_count": 45,
   "metadata": {},
   "outputs": [
    {
     "name": "stdout",
     "output_type": "stream",
     "text": [
      "(6368, 32) (6368,) (6368, 32, 32)\n"
     ]
    }
   ],
   "source": [
    "\n",
    "count = 0\n",
    "data_collected = []\n",
    "imgs = []\n",
    "labels = []\n",
    "for bch,lab in train_loader:\n",
    "    count +=1 \n",
    "    if(count >= 200):\n",
    "        break\n",
    "    mu, sigma = model.encoder(eg.view(eg.shape[0], 1, -1))\n",
    "    mu = mu.detach().numpy()\n",
    "    data_collected.append(mu.reshape((bch.shape[0],-1)))\n",
    "    labels.append(lab)\n",
    "    imgs.append(bch.reshape((bch.shape[0],32,32)))\n",
    "    \n",
    "data_collected = np.concatenate(data_collected,axis = 0)\n",
    "labels = np.concatenate(labels,axis = 0)\n",
    "imgs = np.concatenate(imgs,axis = 0)\n",
    "print(data_collected.shape,labels.shape,imgs.shape)"
   ]
  },
  {
   "cell_type": "code",
   "execution_count": 46,
   "metadata": {},
   "outputs": [
    {
     "name": "stdout",
     "output_type": "stream",
     "text": [
      "[45.41677 59.68373] [-57.825417 -52.286762]\n"
     ]
    }
   ],
   "source": [
    "data_embedded = TSNE(n_components=2).fit_transform(data_collected)\n",
    "data_embedded.shape\n",
    "print(np.max(data_embedded,axis = 0),np.min(data_embedded,axis = 0))"
   ]
  },
  {
   "cell_type": "code",
   "execution_count": 47,
   "metadata": {},
   "outputs": [
    {
     "data": {
      "image/png": "[encoded data removed]",
      "text/plain": [
       "<matplotlib.figure.Figure at 0x7fc056905780>"
      ]
     },
     "metadata": {},
     "output_type": "display_data"
    }
   ],
   "source": [
    "TotalSize = 10000\n",
    "EmbedMax = 1#40\n",
    "fig = np.zeros((TotalSize,TotalSize))\n",
    "for i,img in enumerate(imgs):\n",
    "    x = data_collected[i][0]\n",
    "    y = data_collected[i][1]\n",
    "#     print(img.shape)\n",
    "    \n",
    "    xx = int((x+EmbedMax)*TotalSize/EmbedMax)\n",
    "    yy = int((y+EmbedMax)*TotalSize/EmbedMax)\n",
    "#     print(xx,yy)\n",
    "    tmp = fig[xx:xx+img.shape[0],yy:yy+img.shape[1]]\n",
    "    if(tmp.shape[0]<28 or tmp.shape[1]<28):\n",
    "        continue\n",
    "#     print(tmp.shape)\n",
    "    tmp = np.concatenate([tmp.reshape(1,*(tmp.shape)),img.reshape((1,*(img.shape)))],axis = 0)\n",
    "    tmp = np.max(tmp,axis = 0)\n",
    "    fig[xx:xx+img.shape[0],yy:yy+img.shape[1]] = tmp\n",
    "\n",
    "plt.imshow(fig,\"gray\")\n",
    "plt.imsave(\"embed.png\",fig)\n",
    "plt.show()\n"
   ]
  },
  {
   "cell_type": "markdown",
   "metadata": {},
   "source": [
    "# 可以看出这个聚类聚得十分的分散！上图每一个点都是好多个数字的重叠"
   ]
  },
  {
   "cell_type": "code",
   "execution_count": 48,
   "metadata": {},
   "outputs": [
    {
     "data": {
      "image/png": "[encoded data removed]",
      "text/plain": [
       "<matplotlib.figure.Figure at 0x7fc0581ea940>"
      ]
     },
     "metadata": {},
     "output_type": "display_data"
    }
   ],
   "source": [
    "fig = plt.figure()\n",
    "plt.scatter(data_embedded[:,0],data_embedded[:,1],c=labels)\n",
    "fig.figimage(imgs[0], 0, fig.bbox.ymax - 0)\n",
    "plt.show()"
   ]
  },
  {
   "cell_type": "code",
   "execution_count": 19,
   "metadata": {},
   "outputs": [
    {
     "data": {
      "image/png": "[encoded data removed]",
      "text/plain": [
       "<matplotlib.figure.Figure at 0x2736f70b400>"
      ]
     },
     "metadata": {},
     "output_type": "display_data"
    }
   ],
   "source": [
    "plt.scatter(np.arange(10),np.arange(10),c=np.arange(10))\n",
    "plt.show()"
   ]
  }
 ],
 "metadata": {
  "kernelspec": {
   "display_name": "Python 3",
   "language": "python",
   "name": "python3"
  },
  "language_info": {
   "codemirror_mode": {
    "name": "ipython",
    "version": 3
   },
   "file_extension": ".py",
   "mimetype": "text/x-python",
   "name": "python",
   "nbconvert_exporter": "python",
   "pygments_lexer": "ipython3",
   "version": "3.6.4"
  }
 },
 "nbformat": 4,
 "nbformat_minor": 2
}
