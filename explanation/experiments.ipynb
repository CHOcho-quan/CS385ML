{
 "cells": [
  {
   "cell_type": "code",
   "execution_count": 2,
   "metadata": {},
   "outputs": [],
   "source": [
    "import torch\n",
    "import numpy as np"
   ]
  },
  {
   "cell_type": "code",
   "execution_count": 31,
   "metadata": {},
   "outputs": [
    {
     "data": {
      "text/plain": [
       "tensor([[[0., 0., 0., 0., 0.],\n",
       "         [0., 1., 1., 0., 0.],\n",
       "         [0., 1., 1., 0., 0.],\n",
       "         [0., 0., 0., 0., 0.],\n",
       "         [0., 0., 0., 0., 0.]],\n",
       "\n",
       "        [[1., 1., 0., 0., 0.],\n",
       "         [1., 1., 0., 0., 0.],\n",
       "         [0., 0., 0., 0., 0.],\n",
       "         [0., 0., 0., 0., 0.],\n",
       "         [0., 0., 0., 0., 0.]]], device='cuda:0')"
      ]
     },
     "execution_count": 31,
     "metadata": {},
     "output_type": "execute_result"
    }
   ],
   "source": [
    "class Sel:\n",
    "    def __init__(self):\n",
    "        self.out = None\n",
    "        self.device = None\n",
    "sel = Sel()\n",
    "sel.out = torch.ones((2,5,5))\n",
    "sel.device  = torch.device(\"cuda\")\n",
    "\n",
    "def _encode_one_hot(sel, pos, size):\n",
    "    N,H,W = sel.out.shape\n",
    "    assert(pos.shape==(N,2))\n",
    "    pos = pos.to(sel.device)\n",
    "    one_hot = torch.zeros_like(sel.out).to(sel.device)\n",
    "    src_idx = torch.Tensor(np.arange(0,size[1])).to(sel.device) #  W_\n",
    "    src_idx = torch.ones(N,H,*(src_idx.shape)).to(sel.device) * src_idx.reshape(1,1,*(src_idx.shape)) # N, H, W_\n",
    "#     print(pos[:,1].reshape(N,1,1))\n",
    "    src_idx = src_idx+pos[:,1].reshape(N,1,1) # add the y to each row\n",
    "    src_idx = src_idx.long()\n",
    "    src = torch.zeros_like(sel.out).to(sel.device)\n",
    "    src.scatter_(2,src_idx,1.0) #N, H, W\n",
    "\n",
    "    idx = torch.Tensor(np.arange(0,size[0])).to(sel.device) #  H_\n",
    "    idx = torch.ones(N,*(idx.shape),W).to(sel.device) * idx.reshape(1,*(idx.shape),1) # N, H_, W\n",
    "    idx = idx + (pos[:,0]).reshape(N,1,1)\n",
    "    \n",
    "    idx = idx.long()\n",
    "    one_hot.scatter_(1,idx,src)\n",
    "    return one_hot\n",
    "_encode_one_hot(sel, torch.Tensor([[1,1],[0,0]]), (2,2))"
   ]
  },
  {
   "cell_type": "code",
   "execution_count": 14,
   "metadata": {},
   "outputs": [
    {
     "data": {
      "text/plain": [
       "torch.Size([2, 3, 2])"
      ]
     },
     "execution_count": 14,
     "metadata": {},
     "output_type": "execute_result"
    }
   ],
   "source": [
    "b = torch.ones((2,3,2))\n",
    "(b* a.reshape(1,1,-1)).shape"
   ]
  },
  {
   "cell_type": "code",
   "execution_count": 32,
   "metadata": {},
   "outputs": [
    {
     "name": "stdout",
     "output_type": "stream",
     "text": [
      "[[[0.58601455 0.04910256 0.47256636 0.38144672]\n",
      "  [0.38746973 0.61341205 0.21767825 0.504149  ]]\n",
      "\n",
      " [[0.16064272 0.60511847 0.74579905 0.76440356]\n",
      "  [0.93923179 0.93376225 0.99355835 0.69255258]]]\n"
     ]
    },
    {
     "data": {
      "text/plain": [
       "array([[[1.58601455, 1.04910256, 1.47256636, 1.38144672],\n",
       "        [0.38746973, 0.61341205, 0.21767825, 0.504149  ]],\n",
       "\n",
       "       [[0.16064272, 0.60511847, 0.74579905, 0.76440356],\n",
       "        [1.93923179, 1.93376225, 1.99355835, 1.69255258]]])"
      ]
     },
     "execution_count": 32,
     "metadata": {},
     "output_type": "execute_result"
    }
   ],
   "source": [
    "a = np.random.rand(2,2,4)\n",
    "print(a)\n",
    "a + np.eye(2).reshape(2,2,1)"
   ]
  },
  {
   "cell_type": "code",
   "execution_count": 33,
   "metadata": {},
   "outputs": [
    {
     "data": {
      "text/plain": [
       "array([[[0, 0, 0, 0],\n",
       "        [0, 0, 0, 0]],\n",
       "\n",
       "       [[0, 0, 0, 0],\n",
       "        [0, 0, 0, 0]]], dtype=uint8)"
      ]
     },
     "execution_count": 33,
     "metadata": {},
     "output_type": "execute_result"
    }
   ],
   "source": [
    "np.uint8(a)"
   ]
  }
 ],
 "metadata": {
  "kernelspec": {
   "display_name": "Python 3",
   "language": "python",
   "name": "python3"
  },
  "language_info": {
   "codemirror_mode": {
    "name": "ipython",
    "version": 3
   },
   "file_extension": ".py",
   "mimetype": "text/x-python",
   "name": "python",
   "nbconvert_exporter": "python",
   "pygments_lexer": "ipython3",
   "version": "3.6.3"
  }
 },
 "nbformat": 4,
 "nbformat_minor": 2
}
