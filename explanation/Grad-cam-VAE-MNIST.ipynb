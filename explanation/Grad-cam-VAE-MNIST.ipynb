{
 "cells": [
  {
   "cell_type": "code",
   "execution_count": 1,
   "metadata": {},
   "outputs": [],
   "source": [
    "# from gradCam.VAE_grad_cam import *\n",
    "from gradCam.vis_util import *\n",
    "from gradCam.LinearVAE_grad_cam import *\n",
    "\n",
    "import sys\n",
    "sys.path.append(\"../Reconstruction/\")\n",
    "import cv2\n",
    "import matplotlib.pyplot as plt\n",
    "import matplotlib.cm as cm\n",
    "import numpy as np"
   ]
  },
  {
   "cell_type": "code",
   "execution_count": 2,
   "metadata": {},
   "outputs": [],
   "source": [
    "import os\n",
    "import shutil\n",
    "import time\n",
    "\n",
    "import torch\n",
    "import torch.nn as nn\n",
    "import torch.nn.parallel\n",
    "import torch.backends.cudnn as cudnn\n",
    "import torch.distributed as dist\n",
    "import torch.optim\n",
    "# import torch.utils.data\n",
    "import torch.utils.data as data\n",
    "import torch.utils.data.distributed\n",
    "import torchvision.transforms as transforms\n",
    "import torchvision.datasets as datasets\n",
    "from torch.utils.data.sampler import SubsetRandomSampler\n",
    "# import models\n",
    "# import utils.flops as flops\n",
    "\n",
    "# import Reconstruction.models as models\n",
    "\n",
    "\n",
    "\n",
    "import argparse, os, pickle, glob, cv2\n",
    "import matplotlib.pyplot as plt\n",
    "import numpy as np\n",
    "\n",
    "from utils.loss_function import select_loss_function\n",
    "from utils.get_cdim import update_code_dim\n",
    "\n",
    "from data.dataset import StanfordDog\n",
    "from Solver import LinearSolver, ConvSolver\n",
    "\n",
    "from models.simpleAE import simpleAE\n",
    "from models.LinearVAE import LinearVAE\n",
    "from models.ConvVAE import ConvVAE\n",
    "\n",
    "from torchvision.datasets import MNIST\n",
    "from scipy.stats import norm\n",
    "\n",
    "from copy import deepcopy"
   ]
  },
  {
   "cell_type": "code",
   "execution_count": 3,
   "metadata": {},
   "outputs": [
    {
     "name": "stdout",
     "output_type": "stream",
     "text": [
      "loaded: ../Reconstruction/minst_checkpoints/LinearVAE_16.pth\n"
     ]
    }
   ],
   "source": [
    "picReslu = 96\n",
    "zdim = 16\n",
    "model = LinearVAE(z_dim=zdim, hidden=512, num_channels=32*32) # MNIST\n",
    "model = model.cuda()\n",
    "\n",
    "checkpoints = glob.glob(pathname = '../Reconstruction/minst_checkpoints/LinearVAE_%d.pth'%zdim)\n",
    "\n",
    "\n",
    "if len(checkpoints) != 0:\n",
    "    model.load(path=checkpoints[0])\n",
    "    print(\"loaded:\", checkpoints[0])\n",
    "    "
   ]
  },
  {
   "cell_type": "code",
   "execution_count": 4,
   "metadata": {},
   "outputs": [],
   "source": [
    "def preprocess(image_path):\n",
    "    raw_image = cv2.imread(image_path)\n",
    "    raw_image = cv2.resize(raw_image, (picReslu,) * 2) # this 32 is correspondent to the 32 in c_dim\n",
    "    image = transforms.Compose(\n",
    "        [\n",
    "            transforms.ToTensor(),\n",
    "        ]\n",
    "    )(raw_image[..., ::-1].copy())\n",
    "    return image, raw_image"
   ]
  },
  {
   "cell_type": "code",
   "execution_count": 5,
   "metadata": {},
   "outputs": [
    {
     "name": "stdout",
     "output_type": "stream",
     "text": [
      "Images:\n"
     ]
    }
   ],
   "source": [
    "images = []\n",
    "raw_images = []\n",
    "print(\"Images:\")\n",
    "# #####IMAGES FOR DOG #######\n",
    "# image_paths = [\"../Reconstruction/data/Images/n02090622-borzoi/n02090622_3615.jpg\"]#,\"cat_dog.png\"]\n",
    "# image_paths = [\"../Reconstruction/data/Images/n02090622-borzoi/n02090622_3615.jpg\"]#,\"cat_dog.png\"]\n",
    "\n",
    "# for i, image_path in enumerate(image_paths):\n",
    "#     print(\"\\t#{}: {}\".format(i, image_path))\n",
    "#     image, raw_image = preprocess(image_path)\n",
    "#     images.append(image)\n",
    "#     raw_images.append(raw_image)\n",
    "\n",
    "# images = torch.stack(images).cuda()\n",
    "\n",
    "#### IMAGES FOR MNIST #####\n",
    "train_loader = torch.utils.data.DataLoader(dataset=MNIST('../Reconstruction/data/{0}'.format(\"mnist\"), train=True,download=True ,transform=transforms.Compose([transforms.Resize(32), transforms.ToTensor()])), batch_size=1, shuffle=True)\n",
    "images, _ = next(iter(train_loader))\n",
    "raw_images = images"
   ]
  },
  {
   "cell_type": "code",
   "execution_count": 6,
   "metadata": {},
   "outputs": [
    {
     "name": "stdout",
     "output_type": "stream",
     "text": [
      "###P###: (5, 13)\n",
      "torch.Size([1, 1, 32, 32])\n",
      "raw_shape: (1, 1, 32, 32)\n",
      "outshape: (1, 1, 32, 32)\n",
      "torch.Size([1, 1, 32, 32])\n",
      "(32, 32, 1)\n"
     ]
    },
    {
     "data": {
      "image/png": "[encoded data removed]",
      "text/plain": [
       "<matplotlib.figure.Figure at 0x7f157dddccc0>"
      ]
     },
     "metadata": {},
     "output_type": "display_data"
    },
    {
     "name": "stdout",
     "output_type": "stream",
     "text": [
      "###P###: (15, 10)\n",
      "torch.Size([1, 1, 32, 32])\n",
      "raw_shape: (1, 1, 32, 32)\n",
      "outshape: (1, 1, 32, 32)\n",
      "torch.Size([1, 1, 32, 32])\n",
      "(32, 32, 1)\n"
     ]
    },
    {
     "data": {
      "image/png": "[encoded data removed]",
      "text/plain": [
       "<matplotlib.figure.Figure at 0x7f14eb9ae390>"
      ]
     },
     "metadata": {},
     "output_type": "display_data"
    },
    {
     "name": "stdout",
     "output_type": "stream",
     "text": [
      "###P###: (7, 15)\n",
      "torch.Size([1, 1, 32, 32])\n",
      "raw_shape: (1, 1, 32, 32)\n",
      "outshape: (1, 1, 32, 32)\n",
      "torch.Size([1, 1, 32, 32])\n",
      "(32, 32, 1)\n"
     ]
    },
    {
     "data": {
      "image/png": "[encoded data removed]",
      "text/plain": [
       "<matplotlib.figure.Figure at 0x7f14eb96a9e8>"
      ]
     },
     "metadata": {},
     "output_type": "display_data"
    },
    {
     "name": "stdout",
     "output_type": "stream",
     "text": [
      "###P###: (20, 10)\n",
      "torch.Size([1, 1, 32, 32])\n",
      "raw_shape: (1, 1, 32, 32)\n",
      "outshape: (1, 1, 32, 32)\n",
      "torch.Size([1, 1, 32, 32])\n",
      "(32, 32, 1)\n"
     ]
    },
    {
     "data": {
      "image/png": "[encoded data removed]",
      "text/plain": [
       "<matplotlib.figure.Figure at 0x7f14eb79c630>"
      ]
     },
     "metadata": {},
     "output_type": "display_data"
    },
    {
     "name": "stdout",
     "output_type": "stream",
     "text": [
      "###P###: (10, 20)\n",
      "torch.Size([1, 1, 32, 32])\n",
      "raw_shape: (1, 1, 32, 32)\n",
      "outshape: (1, 1, 32, 32)\n",
      "torch.Size([1, 1, 32, 32])\n",
      "(32, 32, 1)\n"
     ]
    },
    {
     "data": {
      "image/png": "[encoded data removed]",
      "text/plain": [
       "<matplotlib.figure.Figure at 0x7f14eb96a588>"
      ]
     },
     "metadata": {},
     "output_type": "display_data"
    }
   ],
   "source": [
    "def area_grad_cam(images, raw_images, pos, size = (6,6)):\n",
    "    \n",
    "    bp = GuidedBackPropagation(model=model)\n",
    "    print(images.shape)\n",
    "    # out = bp.forward(images)\n",
    "    raws = np.array(raw_images)\n",
    "    print(\"raw_shape:\",raws.shape )\n",
    "#     raws = raws.transpose(0,3,1,2) # comment out this in MNIST\n",
    "    \n",
    "#     images = torch.Tensor(raws).cuda()\n",
    "    images = images.view(images.shape[0], 1, -1)\n",
    "    images = images.cuda()\n",
    "#     print(\"images shape:\",images.shape)\n",
    "\n",
    "    out = bp.forward(images)\n",
    "\n",
    "    out = out.cpu().detach().numpy()\n",
    "    print(\"outshape:\",out.shape)\n",
    "\n",
    "    bp.backward(pos = pos, size = size)\n",
    "    t_raw_images = deepcopy(raw_images)\n",
    "    \n",
    "    t_raw_images[0][:,pos[0][0]:pos[0][0]+size[0],pos[0][1]:pos[0][1]+size[1] ] = 0 # MNIST\n",
    "#     t_raw_images[0][pos[0][0]:pos[0][0]+size[0],pos[0][1]:pos[0][1]+size[1],: ] = 0 # DOG\n",
    "\n",
    "    gradients = bp.generate()\n",
    "    gradient = gradients[0]\n",
    "    gradient = gradient.reshape(1,32,32) # MNIST hard coded not good\n",
    "    gradient = gradient.cpu().numpy().transpose(1, 2, 0)\n",
    "    gradient -= gradient.min()\n",
    "    gradient /= gradient.max()\n",
    "    gradient *= 255.0\n",
    "    print(gradient.shape)\n",
    "    gradient = np.uint8(gradient)\n",
    "    gradient = gradient.reshape(32,32) # add this in MNIST\n",
    "#     gradient = cv2.cvtColor(gradient, cv2.COLOR_BGR2GRAY)\n",
    "\n",
    "\n",
    "\n",
    "#     gcam = GradCAM(model=model,candidate_layers=[\"Encoder.main.7\"])\n",
    "#     _ = gcam.forward(images)\n",
    "#     gcam.backward(pos,size)\n",
    "#     regions = gcam.generate(target_layer=\"Encoder.main.7\")\n",
    "\n",
    "\n",
    "    plt.subplot(221)\n",
    "    plt.imshow(gradient)#,\"gray\")\n",
    "    plt.subplot(222)\n",
    "    plt.imshow(t_raw_images[0][0,:,:]) #MNIST\n",
    "#     plt.imshow(t_raw_images[0]) #dog\n",
    "\n",
    "#     plt.subplot(223)\n",
    "#     plt.imshow(out[0][0,:,:])\n",
    "# #     plt.imshow(out[0].transpose(1,2,0))\n",
    "\n",
    "#     plt.subplot(224)\n",
    "#     print(images.shape)\n",
    "#     img = images.cpu().detach().numpy()\n",
    "# #     plt.imshow(img[0].transpose(1,2,0))\n",
    "#     plt.imshow(img[0].reshape(32,32))\n",
    "\n",
    "    plt.show()\n",
    "# area_grad_cam(images, raw_images, pos=np.array([[5,13]]))\n",
    "# for p in [(5,13),(40,10),(15,45),(60,60),(10,70)]:\n",
    "for p in [(5,13),(15,10),(7,15),(20,10),(10,20)]:\n",
    "    print(\"###P###:\",p)\n",
    "    area_grad_cam(images, raw_images,pos = np.array([[*p]]), size = (5,5))"
   ]
  },
  {
   "cell_type": "code",
   "execution_count": null,
   "metadata": {},
   "outputs": [],
   "source": []
  }
 ],
 "metadata": {
  "kernelspec": {
   "display_name": "Python 3",
   "language": "python",
   "name": "python3"
  },
  "language_info": {
   "codemirror_mode": {
    "name": "ipython",
    "version": 3
   },
   "file_extension": ".py",
   "mimetype": "text/x-python",
   "name": "python",
   "nbconvert_exporter": "python",
   "pygments_lexer": "ipython3",
   "version": "3.6.4"
  }
 },
 "nbformat": 4,
 "nbformat_minor": 2
}
