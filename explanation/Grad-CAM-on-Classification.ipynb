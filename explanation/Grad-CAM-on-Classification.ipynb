{
 "cells": [
  {
   "cell_type": "markdown",
   "metadata": {},
   "source": [
    "# Grad-cam on classification\n",
    "实验的目的是为了看看同样是狗数据集，同样的任务，同样的网络结构，reconstruction任务和classification任务的关注点有何不同\n"
   ]
  },
  {
   "cell_type": "code",
   "execution_count": 40,
   "metadata": {},
   "outputs": [],
   "source": [
    "import argparse\n",
    "import os\n",
    "import shutil\n",
    "import time\n",
    "\n",
    "import torch\n",
    "import torch.nn as nn\n",
    "import torch.nn.parallel\n",
    "import torch.backends.cudnn as cudnn\n",
    "import torch.distributed as dist\n",
    "import torch.optim\n",
    "# import torch.utils.data\n",
    "import torch.utils.data as data\n",
    "import torch.utils.data.distributed\n",
    "import torchvision.transforms as transforms\n",
    "import torchvision.datasets as datasets\n",
    "from torch.utils.data.sampler import SubsetRandomSampler\n",
    "\n",
    "import cv2\n",
    "import matplotlib.pyplot as plt\n",
    "import sys\n",
    "\n",
    "\n",
    "from copy import deepcopy\n",
    "from gradCam.VAE_grad_cam import *\n",
    "from gradCam.vis_util import *\n",
    "\n",
    "sys.path.append('../classification')\n",
    "from models.littleConv import littleConv\n",
    "\n",
    "sys.path.append('../Reconstruction')\n",
    "from  utils.get_cdim import update_code_dim\n",
    "from data.dataset import StanfordDog"
   ]
  },
  {
   "cell_type": "code",
   "execution_count": null,
   "metadata": {},
   "outputs": [],
   "source": [
    "channel_num = 3\n",
    "batchsize = 32\n",
    "traindataset = StanfordDog(root='../Reconstruction/data/', train=True, already = False)\n",
    "train_loader = torch.utils.data.DataLoader(dataset= traindataset,batch_size=batchsize, shuffle=True)\n",
    "val_loader = torch.utils.data.DataLoader(dataset=StanfordDog(root='../Reconstruction/data/', train=True,  already = False), batch_size=batchsize, shuffle=True)\n",
    "model = littleConv(c_dim=update_code_dim(128, 32, 4), z_dim=200 ,num_channels = channel_num)\n",
    "model = model.cuda()\n",
    "picReslu = 32\n",
    "resume = \"../classification/little_.checkpoint.pth.tar\"\n",
    "print(\"=> loading checkpoint '{}'\".format(resume))\n",
    "checkpoint = torch.load(resume)\n",
    "start_epoch = checkpoint['epoch']\n",
    "model.load_state_dict(checkpoint['state_dict'])\n",
    "print(\"=> loaded checkpoint '{}' (epoch {})\"\n",
    "  .format(resume, checkpoint['epoch']))"
   ]
  },
  {
   "cell_type": "code",
   "execution_count": 27,
   "metadata": {},
   "outputs": [
    {
     "data": {
      "text/plain": [
       "80"
      ]
     },
     "execution_count": 27,
     "metadata": {},
     "output_type": "execute_result"
    }
   ],
   "source": []
  },
  {
   "cell_type": "code",
   "execution_count": 14,
   "metadata": {},
   "outputs": [],
   "source": [
    "def preprocess(image_path):\n",
    "    raw_image = cv2.imread(image_path)\n",
    "    raw_image = cv2.resize(raw_image, (picReslu,) * 2) # this 32 is correspondent to the 32 in c_dim\n",
    "    image = transforms.Compose(\n",
    "        [\n",
    "            transforms.ToTensor(),\n",
    "        ]\n",
    "    )(raw_image[..., ::-1].copy())\n",
    "    return image, raw_image"
   ]
  },
  {
   "cell_type": "code",
   "execution_count": 33,
   "metadata": {},
   "outputs": [
    {
     "name": "stdout",
     "output_type": "stream",
     "text": [
      "\t#0: ../Reconstruction/data/Images/n02093256-Staffordshire_bullterrier/n02093256_2416.jpg\n"
     ]
    }
   ],
   "source": [
    "images = []\n",
    "raw_images = []\n",
    "image_paths = [\"../Reconstruction/data/Images/n02093256-Staffordshire_bullterrier/n02093256_2416.jpg\"]#,\"cat_dog.png\"]\n",
    "\n",
    "\n",
    "for i, image_path in enumerate(image_paths):\n",
    "    print(\"\\t#{}: {}\".format(i, image_path))\n",
    "    image, raw_image = preprocess(image_path)\n",
    "    images.append(image)\n",
    "    raw_images.append(raw_image)\n",
    "\n",
    "images = torch.stack(images).cuda()\n"
   ]
  },
  {
   "cell_type": "code",
   "execution_count": 34,
   "metadata": {},
   "outputs": [
    {
     "name": "stdout",
     "output_type": "stream",
     "text": [
      "tensor(5, device='cuda:0')\n",
      "tensor([[-1.9978, -1.8068, -1.9878,  3.5188, -1.1068,  8.8241,  1.3618,  3.1673,\n",
      "         -1.5135,  4.2393,  2.4860, -2.8314,  0.4124,  3.6537, -1.1105,  8.2806,\n",
      "         -0.8321, -3.9614,  0.3608,  0.8706,  0.0918,  1.6659, -1.0006, -1.2556,\n",
      "         -4.4677, -1.4418, -1.4109,  4.3690, -0.9381, -3.7795,  0.7913, -0.2023,\n",
      "          0.5829, -6.0058, -1.4126,  1.2875,  1.2012,  6.6222,  3.3579,  0.2679,\n",
      "         -3.8508, -3.8680,  1.3146,  0.5290,  0.2780,  2.5218, -0.0916, -1.0328,\n",
      "          4.7471,  2.3563, -2.6544, -0.1232,  3.9703, -0.7965,  2.4561, -0.0653,\n",
      "          3.8927,  0.3604,  2.7492,  0.7793, -0.6338,  5.1287, -0.3011, -7.6616,\n",
      "          0.1680,  3.7757, -2.6841,  1.9679, -0.1020, -2.6477,  0.6351,  4.0785,\n",
      "          1.5587, -1.0008, -1.1736, -1.2186,  0.0813,  1.4294, -1.7870,  5.9060,\n",
      "          3.7374,  3.1419, -2.8693,  0.3089,  5.9810, -1.0873,  5.8121,  0.4863,\n",
      "         -3.8634, -2.5161, -6.8624, -2.8612, -2.5391,  0.6278,  4.0441, -0.7404,\n",
      "          3.4351, -3.4082, -3.8558,  0.2781,  1.5516,  0.1746,  2.0261, -1.8652,\n",
      "          1.7994,  8.0115,  4.3591,  1.8271,  2.1408, -3.2777, -1.7951,  0.5412,\n",
      "         -4.5436,  1.2580,  2.3919,  7.6677, -1.8975, -0.4720,  0.2302, -3.8811,\n",
      "         -0.6688, -0.9005, -0.7056, -0.8157, -0.8370, -0.5290, -0.3959, -0.6434,\n",
      "         -0.7063, -0.2097, -0.6486, -0.3744, -0.4816, -0.2757, -0.3188, -0.6438,\n",
      "         -0.4041, -0.2647, -0.8685, -0.4559, -0.4700, -0.1768, -0.8784, -0.1426,\n",
      "         -0.4531, -0.3406, -0.5455, -0.1173, -0.3831, -0.7751, -0.5858, -0.5889,\n",
      "         -0.2385, -0.8650, -0.4380, -0.5502, -0.7016, -0.4192, -0.8557, -0.6928,\n",
      "          0.0941, -0.7836, -0.5977, -0.4992, -0.7253, -0.8352, -0.4257, -0.6352,\n",
      "         -0.9271, -0.5361, -0.4822, -0.5370, -0.8478, -0.6557, -0.5444, -0.5197,\n",
      "         -0.7872, -0.7183, -0.7347, -1.1420, -0.6602, -0.6096, -0.4606, -0.3290,\n",
      "         -0.6604, -0.5286, -0.5416, -0.7302, -0.3940, -0.7313, -0.7339, -0.1294,\n",
      "         -0.9922, -0.8868, -0.7018, -0.4318, -0.8833, -0.4172, -0.5402, -0.8733]],\n",
      "       device='cuda:0', grad_fn=<AddmmBackward>)\n",
      "tensor(8.8241, device='cuda:0', grad_fn=<MaxBackward1>)\n"
     ]
    },
    {
     "name": "stderr",
     "output_type": "stream",
     "text": [
      "/home/hexpodmlc/anaconda3/lib/python3.6/site-packages/torch/tensor.py:287: UserWarning: non-inplace resize is deprecated\n",
      "  warnings.warn(\"non-inplace resize is deprecated\")\n"
     ]
    }
   ],
   "source": [
    "out = model(images)\n",
    "print(out.argmax())\n",
    "print(out)\n",
    "print(out.max())"
   ]
  },
  {
   "cell_type": "code",
   "execution_count": 52,
   "metadata": {},
   "outputs": [],
   "source": [
    "inpt, target = next(iter(train_loader))\n",
    "target = target.cuda(non_blocking=True)\n",
    "inpt = inpt.cuda()"
   ]
  },
  {
   "cell_type": "code",
   "execution_count": 53,
   "metadata": {},
   "outputs": [
    {
     "name": "stderr",
     "output_type": "stream",
     "text": [
      "/home/hexpodmlc/anaconda3/lib/python3.6/site-packages/torch/tensor.py:287: UserWarning: non-inplace resize is deprecated\n",
      "  warnings.warn(\"non-inplace resize is deprecated\")\n"
     ]
    }
   ],
   "source": [
    "output = model(inpt)"
   ]
  },
  {
   "cell_type": "code",
   "execution_count": 54,
   "metadata": {},
   "outputs": [],
   "source": [
    "out = output.cpu().detach().numpy()"
   ]
  },
  {
   "cell_type": "code",
   "execution_count": 56,
   "metadata": {},
   "outputs": [
    {
     "name": "stdout",
     "output_type": "stream",
     "text": [
      "[ 40  64  76  59  86  15 111  43  72   9  49  36  91  40  97   8  20   2\n",
      "  16  59  85   2  46  28  22 113  12  89  97   4 114 109]\n",
      "tensor([ 40,  64,  76,  59,  86,  15, 111,  43,  72,   9,  49,  36,  91,  40,\n",
      "         97,   8,  20,   2,  16,  59,  85,   2,  46,  28,  22, 113,  12,  89,\n",
      "         97,   4, 114, 109], device='cuda:0')\n"
     ]
    },
    {
     "data": {
      "image/png": "[encoded data removed]",
      "text/plain": [
       "<matplotlib.figure.Figure at 0x7f95b2daf908>"
      ]
     },
     "metadata": {},
     "output_type": "display_data"
    },
    {
     "name": "stdout",
     "output_type": "stream",
     "text": [
      "clumber\n"
     ]
    }
   ],
   "source": [
    "print(out.argmax(axis = 1))\n",
    "print(target)\n",
    "\n",
    "eg = inpt[0]\n",
    "plt.imshow(eg.cpu().numpy().transpose(1,2,0))\n",
    "plt.imsave(\"docs/pics/correctness check clumber.png\",eg.cpu().numpy().transpose(1,2,0))\n",
    "plt.show()\n",
    "\n",
    "for k,i in traindataset.breed_dict.items():\n",
    "#     print(k,i,out[0][0])\n",
    "    if(i == out.argmax(axis = 1)[0]):\n",
    "        print(k)\n"
   ]
  },
  {
   "cell_type": "markdown",
   "metadata": {},
   "source": [
    "# The correctness check is passed\n",
    "## 100%的正确率不是做错了！\n",
    "[ 65  87  18  69  31 115  85 110   5  48  17  10  45  43  37  20  55  81\n",
    "  20  43  78  12  95  20  29  26  41  55   1  84  71  82]\n",
    "  \n",
    "[ 65,  87,  18,  69,  31, 115,  85, 110,   5,  48,  17,  10,  45,  43,\n",
    "         37,  20,  55,  81,  20,  43,  78,  12,  95,  20,  29,  26,  41,  55,\n",
    "          1,  84,  71,  82], device='cuda:0')\n",
    "\n",
    "Leonberg\n",
    "![input](./docs/pics/correctness check leonberg.png)\n",
    "./n02111129-Leonberg\n",
    "\n",
    "looks like\n",
    "n02111129_2750.jpg\n",
    "![original](./docs/pics/n02111129_2750.jpg)\n",
    "\n",
    "[ 40  64  76  59  86  15 111  43  72   9  49  36  91  40  97   8  20   2\n",
    "  16  59  85   2  46  28  22 113  12  89  97   4 114 109]\n",
    "[ 40,  64,  76,  59,  86,  15, 111,  43,  72,   9,  49,  36,  91,  40,\n",
    "         97,   8,  20,   2,  16,  59,  85,   2,  46,  28,  22, 113,  12,  89,\n",
    "         97,   4, 114, 109], device='cuda:0')\n",
    "\n",
    "clumber\n",
    "/n02101556-clumber\n",
    "should be from this figure\n",
    "![input](./docs/pics/correctness check clumber.png)\n",
    "![original](./docs/pics/n02101556_2517.jpg)"
   ]
  }
 ],
 "metadata": {
  "kernelspec": {
   "display_name": "Python 3",
   "language": "python",
   "name": "python3"
  },
  "language_info": {
   "codemirror_mode": {
    "name": "ipython",
    "version": 3
   },
   "file_extension": ".py",
   "mimetype": "text/x-python",
   "name": "python",
   "nbconvert_exporter": "python",
   "pygments_lexer": "ipython3",
   "version": "3.6.4"
  }
 },
 "nbformat": 4,
 "nbformat_minor": 2
}
