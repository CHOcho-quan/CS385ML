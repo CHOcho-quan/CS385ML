{
 "cells": [
  {
   "cell_type": "code",
   "execution_count": 1,
   "metadata": {},
   "outputs": [],
   "source": [
    "import argparse\n",
    "import os\n",
    "import shutil\n",
    "import time\n",
    "\n",
    "import torch\n",
    "import torch.nn as nn\n",
    "import torch.nn.parallel\n",
    "import torch.backends.cudnn as cudnn\n",
    "import torch.distributed as dist\n",
    "import torch.optim\n",
    "# import torch.utils.data\n",
    "import torch.utils.data as data\n",
    "import torch.utils.data.distributed\n",
    "import torchvision.transforms as transforms\n",
    "import torchvision.datasets as datasets\n",
    "from torch.utils.data.sampler import SubsetRandomSampler\n",
    "\n",
    "import cv2\n",
    "import matplotlib.pyplot as plt\n",
    "import sys\n",
    "\n",
    "\n",
    "from copy import deepcopy\n",
    "from gradCam.VAE_grad_cam import *\n",
    "from gradCam.vis_util import *\n",
    "\n",
    "sys.path.append('../classification')\n",
    "from models.littleConv import littleConv\n",
    "\n",
    "sys.path.append('../Reconstruction')\n",
    "from  utils.get_cdim import update_code_dim\n",
    "from data.dataset import StanfordDog"
   ]
  },
  {
   "cell_type": "code",
   "execution_count": 2,
   "metadata": {},
   "outputs": [
    {
     "name": "stdout",
     "output_type": "stream",
     "text": [
      "=> loading checkpoint '../classification/little_.checkpoint.pth.tar'\n",
      "=> loaded checkpoint '../classification/little_.checkpoint.pth.tar' (epoch 13)\n"
     ]
    }
   ],
   "source": [
    "channel_num = 3\n",
    "batchsize = 32\n",
    "traindataset = StanfordDog(root='../Reconstruction/data/', train=True, already = False)\n",
    "train_loader = torch.utils.data.DataLoader(dataset= traindataset,batch_size=batchsize, shuffle=True)\n",
    "# val_loader = torch.utils.data.DataLoader(dataset=StanfordDog(root='../Reconstruction/data/', train=True,  already = False), batch_size=batchsize, shuffle=True)\n",
    "model = littleConv(c_dim=update_code_dim(128, 32, 4), z_dim=200 ,num_channels = channel_num)\n",
    "model = model.cuda()\n",
    "picReslu = 32\n",
    "resume = \"../classification/little_.checkpoint.pth.tar\"\n",
    "print(\"=> loading checkpoint '{}'\".format(resume))\n",
    "checkpoint = torch.load(resume)\n",
    "start_epoch = checkpoint['epoch']\n",
    "model.load_state_dict(checkpoint['state_dict'])\n",
    "print(\"=> loaded checkpoint '{}' (epoch {})\"\n",
    "  .format(resume, checkpoint['epoch']))"
   ]
  },
  {
   "cell_type": "code",
   "execution_count": 3,
   "metadata": {},
   "outputs": [
    {
     "name": "stdout",
     "output_type": "stream",
     "text": [
      "\n",
      "main\n",
      "main.0\n",
      "main.1\n",
      "main.2\n",
      "main.3\n",
      "main.4\n",
      "main.5\n",
      "main.6\n",
      "main.7\n",
      "main.8\n",
      "main.9\n",
      "main.10\n",
      "main.11\n",
      "linear\n"
     ]
    }
   ],
   "source": [
    "for name, module in model.named_modules():\n",
    "    print (name)"
   ]
  },
  {
   "cell_type": "code",
   "execution_count": 4,
   "metadata": {},
   "outputs": [],
   "source": [
    "from embedding.embedor import convEmbeder"
   ]
  },
  {
   "cell_type": "code",
   "execution_count": 5,
   "metadata": {},
   "outputs": [
    {
     "ename": "NameError",
     "evalue": "name 'candidate_layers' is not defined",
     "output_type": "error",
     "traceback": [
      "\u001b[0;31m---------------------------------------------------------------------------\u001b[0m",
      "\u001b[0;31mNameError\u001b[0m                                 Traceback (most recent call last)",
      "\u001b[0;32m<ipython-input-5-97bcc0c6337c>\u001b[0m in \u001b[0;36m<module>\u001b[0;34m()\u001b[0m\n\u001b[0;32m----> 1\u001b[0;31m \u001b[0membeder\u001b[0m \u001b[0;34m=\u001b[0m \u001b[0mconvEmbeder\u001b[0m\u001b[0;34m(\u001b[0m\u001b[0mmodel\u001b[0m\u001b[0;34m,\u001b[0m\u001b[0;34m[\u001b[0m\u001b[0;34m\"main.11\"\u001b[0m\u001b[0;34m]\u001b[0m\u001b[0;34m)\u001b[0m\u001b[0;34m\u001b[0m\u001b[0m\n\u001b[0m\u001b[1;32m      2\u001b[0m \u001b[0;34m\u001b[0m\u001b[0m\n\u001b[1;32m      3\u001b[0m \u001b[0;34m\u001b[0m\u001b[0m\n",
      "\u001b[0;32m~/thankyou/CS385ML/explanation/embedding/embedor.py\u001b[0m in \u001b[0;36m__init__\u001b[0;34m(self, model, candidata_layers)\u001b[0m\n\u001b[1;32m     22\u001b[0m         \u001b[0mself\u001b[0m\u001b[0;34m.\u001b[0m\u001b[0mmodel\u001b[0m \u001b[0;34m=\u001b[0m \u001b[0mmodel\u001b[0m\u001b[0;34m\u001b[0m\u001b[0m\n\u001b[1;32m     23\u001b[0m         \u001b[0mself\u001b[0m\u001b[0;34m.\u001b[0m\u001b[0mhandlers\u001b[0m \u001b[0;34m=\u001b[0m \u001b[0;34m[\u001b[0m\u001b[0;34m]\u001b[0m  \u001b[0;31m# a set of hook function handlers\u001b[0m\u001b[0;34m\u001b[0m\u001b[0m\n\u001b[0;32m---> 24\u001b[0;31m         \u001b[0mself\u001b[0m\u001b[0;34m.\u001b[0m\u001b[0mcandidate_layers\u001b[0m \u001b[0;34m=\u001b[0m \u001b[0mcandidate_layers\u001b[0m  \u001b[0;31m# list\u001b[0m\u001b[0;34m\u001b[0m\u001b[0m\n\u001b[0m\u001b[1;32m     25\u001b[0m \u001b[0;34m\u001b[0m\u001b[0m\n\u001b[1;32m     26\u001b[0m         \u001b[0;32mdef\u001b[0m \u001b[0mforward_hook\u001b[0m\u001b[0;34m(\u001b[0m\u001b[0mkey\u001b[0m\u001b[0;34m)\u001b[0m\u001b[0;34m:\u001b[0m\u001b[0;34m\u001b[0m\u001b[0m\n",
      "\u001b[0;31mNameError\u001b[0m: name 'candidate_layers' is not defined"
     ]
    }
   ],
   "source": [
    "embeder = convEmbeder(model,[\"main.11\"])\n",
    "\n",
    "\n"
   ]
  },
  {
   "cell_type": "code",
   "execution_count": null,
   "metadata": {},
   "outputs": [],
   "source": [
    "inpt, target = next(iter(train_loader))\n",
    "target = target.cuda(non_blocking=True)\n",
    "inpt = inpt.cuda()\n",
    "embeder"
   ]
  },
  {
   "cell_type": "code",
   "execution_count": null,
   "metadata": {},
   "outputs": [],
   "source": [
    "np.concatenate"
   ]
  }
 ],
 "metadata": {
  "kernelspec": {
   "display_name": "Python 3",
   "language": "python",
   "name": "python3"
  },
  "language_info": {
   "codemirror_mode": {
    "name": "ipython",
    "version": 3
   },
   "file_extension": ".py",
   "mimetype": "text/x-python",
   "name": "python",
   "nbconvert_exporter": "python",
   "pygments_lexer": "ipython3",
   "version": "3.6.4"
  }
 },
 "nbformat": 4,
 "nbformat_minor": 2
}
